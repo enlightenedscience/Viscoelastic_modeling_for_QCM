{
 "cells": [
  {
   "cell_type": "markdown",
   "metadata": {},
   "source": [
    "This code simultaneously solves equation(s) 15 in the paper by Voinova: https://arxiv.org/pdf/cond-mat/9805266.pdf using eperimentally measured values of $\\Delta$f and $\\Delta$D to obtain calculated values of $\\mu$ and $\\eta$."
   ]
  },
  {
   "cell_type": "code",
   "execution_count": 43,
   "metadata": {
    "collapsed": true
   },
   "outputs": [],
   "source": [
    "import numpy as np\n",
    "import matplotlib.pyplot as plt"
   ]
  },
  {
   "cell_type": "markdown",
   "metadata": {},
   "source": [
    "Define equation 15:"
   ]
  },
  {
   "cell_type": "code",
   "execution_count": 44,
   "metadata": {
    "collapsed": true
   },
   "outputs": [],
   "source": [
    "#%% calculate delta f and delta D using Voinona Voigt model\n",
    "def voigt(mu_f, eta_f):\n",
    "    ''' The Voinova equations come from eqns (24) and (25) in the paper by \n",
    "        Voinova: Vionova, M.V., Rodahl, M., Jonson, M. and Kasemo, B., 1999.\n",
    "        Viscoelastic acoustic response of layered polymer films at fluid-solid\n",
    "        interfaces: continuum mechanics approach. Physica Scripta,\n",
    "        59(5), p.391.\n",
    "    \n",
    "        Reference: https://github.com/88tpm/QCMD/blob/master\n",
    "        /Mass-specific%20activity/Internal%20functions/voigt_rel.m\n",
    "            \n",
    "       Solves for Delta f and Delta d of thin adlayer on quartz resonator.\n",
    "       Differs from voight because calculates relative to unloaded resonator.\n",
    "       \n",
    "      Input\n",
    "           density1 = density of adlayer in kg m-3\n",
    "           shear1 = elastic shear modulus of adlayer in Pa\n",
    "           viscosity1 = dynamic viscosity of adlayer in Pa s\n",
    "           thickness1 = thickness of adlayer in m\n",
    "           densitybulk = density of bulk Newtonian fluid in kg m-3\n",
    "           viscositybulk = dynamic viscosity of bulk Newtonian fluid in kg m-3\n",
    "           f0 = resonator fundamental frequency in s-1\n",
    "       Output\n",
    "           frequency = frequency change of resonator\n",
    "           dissipation =  dissipation change of resonator\n",
    "    '''\n",
    "    # eqn 14\n",
    "    kappa_f = eta_f-(1j*mu_f/w)\n",
    "    # eqn 13\n",
    "    x_f = np.sqrt(-rho_f*np.square(w)/(mu_f + 1j*w*eta_f))\n",
    "    x_b = np.sqrt(1j*rho_b*w/eta_b)\n",
    "    # eqn 11 after simplification with h1 = h2 and h3 = infinity\n",
    "    A = (kappa_f*x_f+eta_b*x_b)/(kappa_f*x_f-eta_b*x_b)\n",
    "    # eqn 16\n",
    "    beta = kappa_f*x_f*(1-A*np.exp(2*x_f*h_f))/(1+A*np.exp(2*x_f*h_f))\n",
    "    beta0 = kappa_f*x_f*(1-A)/(1+A)\n",
    "    # eqn 15\n",
    "    df = np.imag((beta-beta0)/(2*np.pi*rho_q*h_q))\n",
    "    dd = -np.real((beta-beta0)/(np.pi*f0*n*rho_q*h_q))*1e6\n",
    "    \n",
    "    return df, dd"
   ]
  },
  {
   "cell_type": "code",
   "execution_count": 45,
   "metadata": {
    "collapsed": true
   },
   "outputs": [],
   "source": [
    "#%% find difference between two ordered pairs\n",
    "def find_diff2D(p1, p2):\n",
    "    #finds the distance between two ordered pairs of points in 2D\n",
    "    #each point p1 and p2 must be an ordered pair with two elements\n",
    "    xdiff = np.square(p2[0] - p1[0])\n",
    "    ydiff = np.square(p2[1] - p1[1])\n",
    "    diff = np.sqrt(xdiff + ydiff)\n",
    "    return diff"
   ]
  },
  {
   "cell_type": "markdown",
   "metadata": {},
   "source": [
    "Set physical constants of our system:"
   ]
  },
  {
   "cell_type": "code",
   "execution_count": 46,
   "metadata": {
    "collapsed": true
   },
   "outputs": [],
   "source": [
    "#%% set sone constants of the model\n",
    "f0 = 5e6 #fundamental resonant frequency of crystal\n",
    "n = 9 #harmonic number\n",
    "w = 2*np.pi*f0*n #angular frequency \n",
    "mu_q = 2.947e10 #shear modulus of AT-cut quatz in Pa\n",
    "rho_q = 2648 #density of quartz (kg/m^3)\n",
    "h_q = np.sqrt(mu_q/rho_q)/(2*f0) #thickness of quartz\n",
    "h_f = 5e-7 #film thickness in m\n",
    "rho_f = 1000 #film density in kg/m^3\n",
    "rho_b = 1.1839 #density of bulk air (25 C) in kg/m^3\n",
    "eta_b = 18.6e-6 #viscosity of bulk air (25 C) in Pa s"
   ]
  },
  {
   "cell_type": "markdown",
   "metadata": {},
   "source": [
    "To find numerical solutions, a grid of $\\mu$ and $\\eta$ is constructed:"
   ]
  },
  {
   "cell_type": "code",
   "execution_count": 47,
   "metadata": {},
   "outputs": [
    {
     "name": "stdout",
     "output_type": "stream",
     "text": [
      "grid contains 62500 points\n"
     ]
    }
   ],
   "source": [
    "#%% set size of grid to search\n",
    "step_num = 250\n",
    "mu_range = np.linspace(2.5e5, 5.7e5, step_num).astype(float)\n",
    "eta_range = np.linspace(1e-6, 3e-4, step_num).astype(float)\n",
    "print('grid contains %d points' %step_num**2)"
   ]
  },
  {
   "cell_type": "code",
   "execution_count": 48,
   "metadata": {},
   "outputs": [
    {
     "name": "stdout",
     "output_type": "stream",
     "text": [
      "Measured value of delta f = -4700\n",
      "Measured value of delta D = 116.236\n"
     ]
    }
   ],
   "source": [
    "df_exp = -4700\n",
    "dd_exp = 116.236\n",
    "\n",
    "print('Measured value of delta f = '+format(df_exp))\n",
    "print('Measured value of delta D = '+format(dd_exp))"
   ]
  },
  {
   "cell_type": "code",
   "execution_count": 49,
   "metadata": {
    "collapsed": true
   },
   "outputs": [],
   "source": [
    "# iterate over each point in grid to construct surfaces of delta f and delta D\n",
    "dfm=[]\n",
    "ddm=[]\n",
    "for i in range(len(mu_range)-1):\n",
    "    for j in range(len(eta_range)):\n",
    "        #calculate delta f and delta d at each grid point  \n",
    "        df0, dd0 = voigt(mu_range[i], eta_range[j])\n",
    "        df1, dd1 = voigt(mu_range[i+1], eta_range[j])\n",
    "        \n",
    "        #check if surface intersects planes of experimental df and dd\n",
    "        if df1 <= df_exp <= df0 or df0 <= df_exp <= df1:\n",
    "            dfm.append([mu_range[i], eta_range[j]])\n",
    "        if dd1 <= dd_exp <= dd0 or dd0 <= dd_exp <= dd1:  \n",
    "             ddm.append([mu_range[i], eta_range[j]])\n",
    "dfm = np.array(dfm)\n",
    "ddm = np.array(ddm)"
   ]
  },
  {
   "cell_type": "code",
   "execution_count": 50,
   "metadata": {},
   "outputs": [
    {
     "data": {
      "image/png": "[encoded data removed]",
      "text/plain": [
       "<matplotlib.figure.Figure at 0x62a6a90>"
      ]
     },
     "metadata": {},
     "output_type": "display_data"
    }
   ],
   "source": [
    "#--------------------------plot solution contours ------------------\n",
    "fig = plt.figure()\n",
    "ax = plt.gca()\n",
    "\n",
    "ax.scatter(dfm[:,0], dfm[:,1], s=1, c='k', label='$\\Delta$f')\n",
    "ax.scatter(ddm[:,0], ddm[:,1], s=1, c='r', label='$\\Delta$D')\n",
    "    \n",
    "\n",
    "#-------find intersection of df and dd contours -------------------    \n",
    "all_diffs=[]\n",
    "for dfm_val in dfm:\n",
    "    for ddm_val in ddm:\n",
    "        #find point closest to both contours \n",
    "        all_diffs.append([dfm_val[0], ddm_val[1], \n",
    "                          find_diff2D(dfm_val, ddm_val)])\n",
    "    \n",
    "all_diffs=np.array(all_diffs)    \n",
    "min_diff_ind = np.argmin(all_diffs[:,2])\n",
    "mu_sol0 = all_diffs[min_diff_ind][0] \n",
    "eta_sol0 = all_diffs[min_diff_ind][1]\n",
    "\n",
    "#plot solution\n",
    "plt.scatter(mu_sol0, eta_sol0, s=150, marker='*', label='solution', c='b')\n",
    "plt.ticklabel_format(style='sci', axis='x', scilimits=(0,0))\n",
    "plt.ticklabel_format(style='sci', axis='y', scilimits=(0,0))\n",
    "ax.set_xlim([min(mu_range),6e5])\n",
    "ax.set_ylim([0,max(eta_range)])\n",
    "ax.set_xlabel('$\\mu$ (Pa)', fontsize=18)\n",
    "ax.set_ylabel('$\\eta$ (Pa s)', fontsize=18)\n",
    "plt.legend(loc='upper right')\n",
    "plt.show()"
   ]
  },
  {
   "cell_type": "markdown",
   "metadata": {},
   "source": [
    "In the above plot, the red contour line shows intersection of the surface with $\\Delta$D and the black line shows intersection with $\\Delta$f. Intersection of the two contour lines is the solution for $\\eta$ and $\\mu$. "
   ]
  },
  {
   "cell_type": "code",
   "execution_count": null,
   "metadata": {
    "collapsed": true
   },
   "outputs": [],
   "source": []
  }
 ],
 "metadata": {
  "kernelspec": {
   "display_name": "Python 3",
   "language": "python",
   "name": "python3"
  },
  "language_info": {
   "codemirror_mode": {
    "name": "ipython",
    "version": 3
   },
   "file_extension": ".py",
   "mimetype": "text/x-python",
   "name": "python",
   "nbconvert_exporter": "python",
   "pygments_lexer": "ipython3",
   "version": "3.6.1"
  }
 },
 "nbformat": 4,
 "nbformat_minor": 2
}
